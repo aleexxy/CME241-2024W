{
  "cells": [
    {
      "cell_type": "markdown",
      "metadata": {
        "id": "view-in-github",
        "colab_type": "text"
      },
      "source": [
        "<a href=\"https://colab.research.google.com/github/aleexxy/CME241-2024W/blob/main/assignment2.ipynb\" target=\"_parent\"><img src=\"https://colab.research.google.com/assets/colab-badge.svg\" alt=\"Open In Colab\"/></a>"
      ]
    },
    {
      "cell_type": "markdown",
      "metadata": {
        "id": "DwaBU-fWGtQ-"
      },
      "source": [
        "# Stanford CME 241 (Winter 2024) - Assignment 2\n",
        "\n",
        "**Due: Jan 22 @ 11:59pm Pacific Time on Gradescope.**\n",
        "\n",
        "Assignment instructions:\n",
        "- **Please solve questions 1 and 2, and choose one of questions 3 or 4.**\n",
        "- Questions 1 and 2 of this homework focus on Markov Processes (MP and MRP) that were taught in class in the second week and are covered in Chapter 3 of the book.\n",
        "- Questions 3 and 4 cover Markov Decision Processes that will be taught in the third week and are covered in Chapter 4 of the book.\n",
        "- Empty code blocks are for your use. Feel free to create more under each section as needed.\n",
        "\n",
        "Submission instructions:\n",
        "- When complete, fill out your publicly available GitHub repo file URL below, then export or print this .ipynb file to PDF and upload the PDF to Gradescope.\n",
        "\n",
        "*Link to this ipynb file in your public GitHub repo (replace below URL with yours):*\n",
        "\n",
        "https://github.com/my-username/my-repo/assignment-file-name.ipynb"
      ]
    },
    {
      "cell_type": "markdown",
      "source": [
        "***Group Members:***\n",
        "\n",
        "Handi Zhao,\n",
        "\n",
        "Sylvia Sun,\n",
        "\n",
        "Zhengji Yang"
      ],
      "metadata": {
        "id": "Gvp5h9zcGwnq"
      }
    },
    {
      "cell_type": "markdown",
      "metadata": {
        "id": "kSiaXG5RGtRA"
      },
      "source": [
        "## Imports"
      ]
    },
    {
      "cell_type": "code",
      "execution_count": null,
      "metadata": {
        "id": "RNBKTGziGtRB"
      },
      "outputs": [],
      "source": [
        "import matplotlib.pyplot as plt\n",
        "import numpy as np\n",
        "import random, itertools\n",
        "\n",
        "from rl.distribution import Categorical, Distribution, FiniteDistribution, SampledDistribution\n",
        "from rl.markov_process import FiniteMarkovProcess, FiniteMarkovRewardProcess, NonTerminal, State\n",
        "from typing import Mapping, Tuple, Optional"
      ]
    },
    {
      "cell_type": "markdown",
      "metadata": {
        "id": "rxQUYwL4GtRC"
      },
      "source": [
        "## Question 1\n",
        "In the classic childhood game of Snakes and Ladders, all players start to the left of square 1 (call this position 0) and roll a 6-sided die to represent the number of squares they can move forward. The goal is to reach square 100 as quickly as possible. Landing on the bottom rung of a ladder allows for an automatic free-pass to climb, e.g. square 4 sends you directly to 14; whereas landing on a snake's head forces one to slide all the way to the tail, e.g. square 34 sends you to 6. Note, this game can be viewed as a Markov Process, where the outcome is only depedent on the current state and not the prior trajectory. In this question, we will ask you to both formally describe the Markov Process that describes this game, followed by coding up a version of the game to get familiar with the RL-book libraries.\n",
        "\n",
        "![2_snakes_and_ladders.png](attachment:2_snakes_and_ladders.png)"
      ]
    },
    {
      "cell_type": "markdown",
      "metadata": {
        "id": "twomeip_GtRC"
      },
      "source": [
        "### Part a\n",
        "Formalize the state space of the Snakes and Ladders game."
      ]
    },
    {
      "cell_type": "markdown",
      "metadata": {
        "id": "7rM9TrFhGtRC"
      },
      "source": [
        "The states in this problem are all possible positions on the board.\n",
        "S = {1, 2, ..., 100}, where S = 1 is the initial state, and S = 100 is the terminal state."
      ]
    },
    {
      "cell_type": "markdown",
      "metadata": {
        "id": "4wY5ZKmtGtRC"
      },
      "source": [
        "### Part b\n",
        "Write out the structure of the transition probabilities. Feel free to abbreviate all squares that do not have a snake or ladder."
      ]
    },
    {
      "cell_type": "markdown",
      "metadata": {
        "id": "xr4mWwaiGtRD"
      },
      "source": [
        "For regular squares (not at the head of the snake or at the bottom of the ladder) <br>\n",
        "P(s'|s) = 1/6 if s + a <= 100 <br>\n",
        "P(s'|s) = 0 otherwise<br>\n",
        "<br>\n",
        "For squares at the bottom of the ladder:<br>\n",
        "P(s'=top|s=bottom) = 1<br>\n",
        "\n",
        "For squares at the head of the snakes:<br>\n",
        "P(s'=tail|s=head) = 1"
      ]
    },
    {
      "cell_type": "markdown",
      "metadata": {
        "id": "2mAmFqOKGtRD"
      },
      "source": [
        "### Part c\n",
        "Code up a `transition_map: Transition[S]` data structure to represent the transition probabilities of the Snakes and Ladders Markov Process so you can model the game as an instance of `FiniteMarkovProcess`. Use the `traces` method to create sampling traces."
      ]
    },
    {
      "cell_type": "code",
      "execution_count": null,
      "metadata": {
        "id": "jeRMYCVrGtRD"
      },
      "outputs": [],
      "source": [
        "snake_head = {32: 10, 36: 6, 48: 26, 63: 18, 88: 24, 95: 56, 97: 78}\n",
        "ladder_bot = {1: 38, 4: 14, 8: 30, 21: 42, 28: 76, 50: 67, 71: 92, 80: 99}\n",
        "\n",
        "def get_next_states(S):\n",
        "    next_states = []\n",
        "    if S in snake_head.keys():\n",
        "        next_states.append(snake_head[S])\n",
        "    elif S in ladder_bot.keys():\n",
        "        next_states.append(ladder_bot[S])\n",
        "    else:\n",
        "        for i in range(1, 7):\n",
        "            if S + i <= 100:\n",
        "                next_states.append(S + i)\n",
        "            else:\n",
        "                break\n",
        "    return next_states\n",
        "\n",
        "#get_next_states(2)"
      ]
    },
    {
      "cell_type": "code",
      "execution_count": null,
      "metadata": {
        "id": "bH3DxKUfGtRD"
      },
      "outputs": [],
      "source": [
        "def get_categorical_dict(S, next_states):\n",
        "    categorical_dict = {}\n",
        "    #next_states = get_next_states(1)\n",
        "    if len(next_states) == 1:\n",
        "        categorical_dict[next_states[0]] = 1\n",
        "    else:\n",
        "        for key in next_states:\n",
        "            categorical_dict[key] = 1/len(next_states)\n",
        "    return categorical_dict"
      ]
    },
    {
      "cell_type": "code",
      "execution_count": null,
      "metadata": {
        "id": "7KY6eZp2GtRD"
      },
      "outputs": [],
      "source": [
        "def snake_ladder():\n",
        "    transition_map = {}\n",
        "\n",
        "    for i in range(1, 100):\n",
        "        transition_map[i] = Categorical(get_categorical_dict(i, get_next_states(i)))\n",
        "\n",
        "    finiteMarkovProcess = FiniteMarkovProcess(transition_map)\n",
        "    init_dist = {NonTerminal(1): 1}\n",
        "    init_dist = Categorical(init_dist)\n",
        "\n",
        "    traces = finiteMarkovProcess.traces(init_dist)\n",
        "    return traces"
      ]
    },
    {
      "cell_type": "markdown",
      "metadata": {
        "id": "mIBd89heGtRE"
      },
      "source": [
        "### Part d\n",
        "Plot the sample traces and a graph of the distribution of time steps to finish the game."
      ]
    },
    {
      "cell_type": "code",
      "execution_count": null,
      "metadata": {
        "id": "X00OL0buGtRE",
        "outputId": "7ee23c77-9832-40a4-b17b-9ca53b15644e"
      },
      "outputs": [
        {
          "data": {
            "image/png": "[encoded data removed]",
            "text/plain": [
              "<Figure size 640x480 with 1 Axes>"
            ]
          },
          "metadata": {},
          "output_type": "display_data"
        }
      ],
      "source": [
        "traces = snake_ladder()\n",
        "n_timestep = []\n",
        "sample_traces = []\n",
        "for sim in itertools.islice(traces, 50):\n",
        "    n = 0\n",
        "    trace = []\n",
        "    for s in itertools.islice(sim, 100):\n",
        "        n += 1\n",
        "        trace.append(s.state)\n",
        "    n_timestep.append(n)\n",
        "    sample_traces.append(trace)\n",
        "\n",
        "plt.hist(n_timestep)\n",
        "plt.xlabel('# of time steps')\n",
        "plt.title('Distribution of Time Steps')\n",
        "plt.show()"
      ]
    },
    {
      "cell_type": "code",
      "execution_count": null,
      "metadata": {
        "id": "-g0jVwODGtRE",
        "outputId": "d11a0cb9-6c7c-4523-d64f-c3fad3fcc41e"
      },
      "outputs": [
        {
          "data": {
            "text/plain": [
              "Text(0.5, 1.0, 'Sample Traces')"
            ]
          },
          "execution_count": 50,
          "metadata": {},
          "output_type": "execute_result"
        },
        {
          "data": {
            "image/png": "[encoded data removed]",
            "text/plain": [
              "<Figure size 640x480 with 1 Axes>"
            ]
          },
          "metadata": {},
          "output_type": "display_data"
        }
      ],
      "source": [
        "for i in range(5):\n",
        "    plt.plot(range(len(sample_traces[i])), sample_traces[i], color=plt.cm.tab10.colors[i])\n",
        "\n",
        "plt.xlabel('time steps')\n",
        "plt.ylabel('position')\n",
        "plt.title('Sample Traces')"
      ]
    },
    {
      "cell_type": "markdown",
      "metadata": {
        "id": "OUIR5f03GtRF"
      },
      "source": [
        "### Part e\n",
        "For the Snakes and Ladders game, calculate the expected number of rolls to finish the game. Hint: in order to calculate this, extend the Snakes and Ladders `FiniteMarkovProcess` to an appropriate `FiniteMarkovRewardProcess` instance. What should be the Rewards model in this MRP so you can use one of the methods in the `FiniteMarkovRewardProcess` class to determine the expected number of dice rolls to finish the game?"
      ]
    },
    {
      "cell_type": "code",
      "execution_count": null,
      "metadata": {
        "id": "hMOPCjZrGtRF"
      },
      "outputs": [],
      "source": [
        "def get_transition_reward_map():\n",
        "    d = {}\n",
        "\n",
        "    def get_reward_dict(S, next_states):\n",
        "        categorical_dict = {}\n",
        "        if len(next_states) == 1:\n",
        "            categorical_dict[(next_states[0], 1)] = 1\n",
        "        else:\n",
        "            for key in next_states:\n",
        "                categorical_dict[(key, 1)] = 1/len(next_states)\n",
        "        return categorical_dict\n",
        "\n",
        "    for i in range(1, 100):\n",
        "        d[i] = Categorical(get_reward_dict(i, get_next_states(i)))\n",
        "\n",
        "    return d"
      ]
    },
    {
      "cell_type": "code",
      "execution_count": null,
      "metadata": {
        "id": "sQrIZpDiGtRF",
        "outputId": "5135ded9-532e-48fc-ed95-b14e05ed923e"
      },
      "outputs": [
        {
          "name": "stdout",
          "output_type": "stream",
          "text": [
            "{NonTerminal(state=1): 34.505,\n",
            " NonTerminal(state=2): 40.535,\n",
            " NonTerminal(state=3): 40.27,\n",
            " NonTerminal(state=4): 38.362,\n",
            " NonTerminal(state=5): 39.959,\n",
            " NonTerminal(state=6): 39.651,\n",
            " NonTerminal(state=7): 39.353,\n",
            " NonTerminal(state=8): 39.614,\n",
            " NonTerminal(state=9): 38.681,\n",
            " NonTerminal(state=10): 38.375,\n",
            " NonTerminal(state=11): 38.078,\n",
            " NonTerminal(state=12): 37.806,\n",
            " NonTerminal(state=13): 37.565,\n",
            " NonTerminal(state=14): 37.362,\n",
            " NonTerminal(state=15): 36.901,\n",
            " NonTerminal(state=16): 36.534,\n",
            " NonTerminal(state=17): 36.3,\n",
            " NonTerminal(state=18): 36.175,\n",
            " NonTerminal(state=19): 36.119,\n",
            " NonTerminal(state=20): 36.145,\n",
            " NonTerminal(state=21): 34.134,\n",
            " NonTerminal(state=22): 34.331,\n",
            " NonTerminal(state=23): 34.895,\n",
            " NonTerminal(state=24): 35.426,\n",
            " NonTerminal(state=25): 35.786,\n",
            " NonTerminal(state=26): 36.298,\n",
            " NonTerminal(state=27): 36.315,\n",
            " NonTerminal(state=28): 21.269,\n",
            " NonTerminal(state=29): 38.274,\n",
            " NonTerminal(state=30): 38.614,\n",
            " NonTerminal(state=31): 37.943,\n",
            " NonTerminal(state=32): 39.375,\n",
            " NonTerminal(state=33): 36.416,\n",
            " NonTerminal(state=34): 35.896,\n",
            " NonTerminal(state=35): 35.402,\n",
            " NonTerminal(state=36): 40.651,\n",
            " NonTerminal(state=37): 33.918,\n",
            " NonTerminal(state=38): 33.505,\n",
            " NonTerminal(state=39): 33.125,\n",
            " NonTerminal(state=40): 32.773,\n",
            " NonTerminal(state=41): 32.44,\n",
            " NonTerminal(state=42): 33.134,\n",
            " NonTerminal(state=43): 32.53,\n",
            " NonTerminal(state=44): 31.029,\n",
            " NonTerminal(state=45): 30.847,\n",
            " NonTerminal(state=46): 30.656,\n",
            " NonTerminal(state=47): 30.442,\n",
            " NonTerminal(state=48): 37.298,\n",
            " NonTerminal(state=49): 28.907,\n",
            " NonTerminal(state=50): 22.024,\n",
            " NonTerminal(state=51): 29.754,\n",
            " NonTerminal(state=52): 29.512,\n",
            " NonTerminal(state=53): 29.158,\n",
            " NonTerminal(state=54): 28.731,\n",
            " NonTerminal(state=55): 28.261,\n",
            " NonTerminal(state=56): 27.76,\n",
            " NonTerminal(state=57): 29.105,\n",
            " NonTerminal(state=58): 28.055,\n",
            " NonTerminal(state=59): 27.037,\n",
            " NonTerminal(state=60): 26.171,\n",
            " NonTerminal(state=61): 25.436,\n",
            " NonTerminal(state=62): 24.755,\n",
            " NonTerminal(state=63): 37.175,\n",
            " NonTerminal(state=64): 21.755,\n",
            " NonTerminal(state=65): 20.929,\n",
            " NonTerminal(state=66): 20.978,\n",
            " NonTerminal(state=67): 21.024,\n",
            " NonTerminal(state=68): 20.67,\n",
            " NonTerminal(state=69): 20.48,\n",
            " NonTerminal(state=70): 20.449,\n",
            " NonTerminal(state=71): 15.972,\n",
            " NonTerminal(state=72): 21.273,\n",
            " NonTerminal(state=73): 21.301,\n",
            " NonTerminal(state=74): 18.544,\n",
            " NonTerminal(state=75): 19.337,\n",
            " NonTerminal(state=76): 20.269,\n",
            " NonTerminal(state=77): 20.905,\n",
            " NonTerminal(state=78): 21.28,\n",
            " NonTerminal(state=79): 21.473,\n",
            " NonTerminal(state=80): 2.0,\n",
            " NonTerminal(state=81): 24.097,\n",
            " NonTerminal(state=82): 25.859,\n",
            " NonTerminal(state=83): 24.722,\n",
            " NonTerminal(state=84): 23.53,\n",
            " NonTerminal(state=85): 22.628,\n",
            " NonTerminal(state=86): 21.534,\n",
            " NonTerminal(state=87): 20.312,\n",
            " NonTerminal(state=88): 36.426,\n",
            " NonTerminal(state=89): 17.904,\n",
            " NonTerminal(state=90): 16.374,\n",
            " NonTerminal(state=91): 17.218,\n",
            " NonTerminal(state=92): 14.972,\n",
            " NonTerminal(state=93): 12.976,\n",
            " NonTerminal(state=94): 11.122,\n",
            " NonTerminal(state=95): 28.76,\n",
            " NonTerminal(state=96): 7.195,\n",
            " NonTerminal(state=97): 22.28,\n",
            " NonTerminal(state=98): 1.5,\n",
            " NonTerminal(state=99): 1.0}\n"
          ]
        }
      ],
      "source": [
        "finiteMarkovRewardProcess = FiniteMarkovRewardProcess(get_transition_reward_map())\n",
        "init_dist = {NonTerminal(1): 1}\n",
        "init_dist = Categorical(init_dist)\n",
        "\n",
        "finiteMarkovRewardProcess.display_value_function(gamma=1)"
      ]
    },
    {
      "cell_type": "markdown",
      "metadata": {
        "id": "HFH11HLAGtRF"
      },
      "source": [
        "## Question 2\n",
        "Consider the problem of a frog jumping across a river with $n=9$ lilypads. The frog at every time step will randomly jump to a position in front of it (e.g. at the starting step, the frog will jump with $\\frac{1}{10}$ probability to each of the lilypads or $\\frac{1}{10}$ to the other side of the river). A diagram of the frog jumping problem is below.\n",
        "\n",
        "![2_jumping.png](attachment:2_jumping.png)"
      ]
    },
    {
      "cell_type": "markdown",
      "metadata": {
        "id": "lxwjvC3tGtRG"
      },
      "source": [
        "### Part a\n",
        "Formalize the states of the jumping frog problem as well as the structure of the transition probabilites."
      ]
    },
    {
      "cell_type": "markdown",
      "metadata": {
        "id": "GHp2VRcxGtRG"
      },
      "source": [
        "Denote state 0 to be the start, state 1,...,n to be lilypads, state n+1 to be the end.\n",
        "The transition probabilities are as follows:\n",
        "\n",
        "$$\n",
        "P_{ij} = \\begin{cases}\n",
        "0 & \\text{if } i > j, \\\\\n",
        "0 & \\text{for } i = j, i = 0,1,\\ldots,n, \\\\\n",
        "1 & \\text{for } i = j = n+1, \\\\\n",
        "\\frac{1}{n+1-i} & \\text{for } j > i.\n",
        "\\end{cases}\n",
        "$$\n"
      ]
    },
    {
      "cell_type": "markdown",
      "metadata": {
        "id": "KjmDIc1MGtRG"
      },
      "source": [
        "$$\n",
        "P = \\begin{bmatrix}\n",
        "0 & \\frac{1}{n+1} & \\frac{1}{n+1} & \\cdots & \\frac{1}{n+1} & \\frac{1}{n+1} & \\frac{1}{n+1} \\\\\n",
        "0 & 0 & \\frac{1}{n} & \\cdots & \\frac{1}{n} & \\frac{1}{n} & \\frac{1}{n} \\\\\n",
        "0 & 0 & 0 & \\ddots & \\frac{1}{n-1} & \\frac{1}{n-1} & \\frac{1}{n-1} \\\\\n",
        "\\vdots & \\vdots & \\vdots & \\ddots & \\vdots & \\vdots & \\vdots \\\\\n",
        "0 & 0 & 0 & \\cdots & 0 & \\frac{1}{2} & \\frac{1}{2} \\\\\n",
        "0 & 0 & 0 & \\cdots & 0 & 0 & 1 \\\\\n",
        "0 & 0 & 0 & \\cdots & 0 & 0 & 1 \\\\\n",
        "\\end{bmatrix}_{(n+2) \\times (n+2)}\n",
        "$$\n"
      ]
    },
    {
      "cell_type": "markdown",
      "metadata": {
        "id": "wjd3WcmbGtRG"
      },
      "source": [
        "### Part b\n",
        "Compute the expected number of steps that it would take for the frog to reach the other side."
      ]
    },
    {
      "cell_type": "markdown",
      "metadata": {
        "id": "GZe0EcDvGtRG"
      },
      "source": [
        "\n",
        "Let E_{i} be the expected number of steps that it would take for the frog to reach the space that is i steps from current place.\n",
        "\n",
        "For n lilypads, there will be n+1 steps for the frog to reach the end from the start, so we need to get E_{n+1}:\n",
        "\n",
        "$$\n",
        "E_1 = 1,\n",
        "$$\n",
        "\n",
        "$$\n",
        "E_2 = 1 + \\frac{E_1}{2},\n",
        "$$\n",
        "\n",
        "$$\n",
        "\\vdots\n",
        "$$\n",
        "\n",
        "$$\n",
        "E_n = 1 + \\frac{\\sum_{k=1}^{n-1} E_k}{n},\n",
        "$$\n",
        "\n",
        "$$\n",
        "E_{n+1} = 1 + \\frac{\\sum_{k=1}^{n} E_k}{n+1}.\n",
        "$$\n",
        "\n",
        "By calculation, the summation of reciprocals is:\n",
        "\n",
        "$$\n",
        "E_n = 1 + \\frac{1}{2} + \\frac{1}{3} + \\dots + \\frac{1}{n}\n",
        "$$\n",
        "\n",
        "So for \\( n = 9 \\), the expected number of steps \\( E_{10} \\) or \\( E_{n+1} \\) is:\n",
        "\n",
        "$$\n",
        "E_{10} = E_{n+1} = 1 + \\frac{1}{2} + \\frac{1}{3} + \\dots + \\frac{1}{10} = \\sum_{k=1}^{10} \\frac{1}{k}\n",
        "$$\n",
        "\n"
      ]
    },
    {
      "cell_type": "markdown",
      "metadata": {
        "id": "pZq3puiWGtRG"
      },
      "source": [
        "### Part c\n",
        "Provide a closed form solution for the expected number of steps / jumps to cross the river for arbitrary $n$. A formal proof is not required."
      ]
    },
    {
      "cell_type": "markdown",
      "metadata": {
        "id": "9mYxzJhtGtRG"
      },
      "source": [
        "$$ \\sum_{k=1}^{n+1} \\frac{1}{k} $$"
      ]
    },
    {
      "cell_type": "markdown",
      "metadata": {
        "id": "K63Dni5TGtRH"
      },
      "source": [
        "## Question 3\n",
        "Consider an MDP with an infinite set of states $\\mathcal{S} = \\{1,2,3,\\ldots \\}$. The start state is $s=1$. Each state $s$ allows a continuous set of actions $a \\in [0,1]$. The transition probabilities are given by: $$\\mathbb{P}[s+1 \\mid s, a] = a, \\mathbb{P}[s \\mid s, a] = 1 - a \\text{ for all } s \\in \\mathcal{S} \\text{ for all } a \\in [0,1]$$\n",
        "For all states $s \\in \\mathcal{S}$ and actions $a \\in [0,1]$, transitioning from $s$ to $s+1$ results in a reward of $1-a$ and transitioning from $s$ to $s$ results in a reward of $1+a$. The discount factor $\\gamma=0.5$."
      ]
    },
    {
      "cell_type": "markdown",
      "metadata": {
        "id": "0QG1cFnwGtRH"
      },
      "source": [
        "### Part a\n",
        "Using the MDP Bellman Optimality Equation, calculate the Optimal Value Function $V^*(s)$ for all $s \\in \\mathcal{S}$"
      ]
    },
    {
      "cell_type": "markdown",
      "metadata": {
        "id": "VlzPALZBGtRH"
      },
      "source": [
        "According to the MDP Bellman Optimality Equation, we have\n",
        "\n",
        "\\begin{align}\n",
        "V^*(s) & = max_{a} \\sum_{s'} \\mathbb{P}(s'|s, a) (R(s,s') + \\gamma V^*(s')) \\\\\n",
        "       & = max_{a}\\,\\, a * ((1 - a) + 0.5 V^*(s+1)) + (1 - a) * ((1 + a) + 0.5 V^*(s)) \\\\\n",
        "       & = max_{a}\\,\\, 1 + a - 2a^2 + 0.5a * V^*(s+1) + 0.5 (1-a) * V^*(s) \\\\\n",
        "       & = max_{a}\\,\\,  -2 a^2 + (1 + 0.5V^*(s+1) - 0.5V^*(s)) a + 1 + 0.5 V^*(s) \\\\\n",
        "       & = (1 + 0.5V^*(s+1) - 0.5V^*(s))^2/8 + 1 + 0.5 V^*(s) \\\\\n",
        "\\end{align}\n",
        "\n",
        "Due to the stationary property, $V^*(s) = V^*(s+1)$, hence  \n",
        "\\begin{align}\n",
        "V^*(s) & = (1 + 0.5V^*(s+1) - 0.5V^*(s))^2/4 + 2 \\\\\n",
        "       & = 2.25\n",
        "\\end{align}\n"
      ]
    },
    {
      "cell_type": "markdown",
      "metadata": {
        "id": "9rJF2IdpGtRH"
      },
      "source": [
        "### Part b\n",
        "Calculate an Optimal Deterministic Policy $\\pi^*(s)$ for all $s \\in \\mathcal{S}$"
      ]
    },
    {
      "cell_type": "markdown",
      "metadata": {
        "id": "2N5JhiC3GtRH"
      },
      "source": [
        "Let $\\pi^*(s) = 1/4$ for any s, then\n",
        "\\begin{align}\n",
        "V^{\\pi^*}(s) & = 1/4 * (3/4 + 0.5 * V^{\\pi^*}(s+1)) + 3/4 * (5/4 + 0.5 * V^{\\pi^*}(s) ) \\\\\n",
        "             & = 9/8 + 1/8 * V^{\\pi^*}(s+1) + 3/8 * V^{\\pi^*}(s)\n",
        "\\end{align}\n",
        "\n",
        "According to the stationary property, $V^{\\pi^*}(s+1) = V^{\\pi^*}(s)$, hence\n",
        "$$ V^{\\pi^*}(s) = 9/8 * 2 = 2.25 = V^*(s).$$\n",
        "\n",
        "Hence $V^{\\pi^*}$ is optimal, $\\pi^*$ is the optimal deterministic policy."
      ]
    },
    {
      "cell_type": "markdown",
      "metadata": {
        "id": "p8lO6xrFGtRH"
      },
      "source": [
        "## Question 4\n",
        "Consider again the problem of a frog jumping across a river with $n-1$ lilypads, labeled $1, \\dots, n-1$, with the two riverbanks labeled positions $0$ and $n$. At each time step, the frog who is at lilypad $i$ has two options:\n",
        "- (Strategy A) The frog moves to lilypad $i-1$  with probability $\\frac{i}{n}$ and moves to lilypad $i+1$ otherwise.\n",
        "- (Strategy B) The frog moves to arbitrary position from $0,\\dots,n$ with equal probability.\n",
        "\n",
        "The frog now starts on a random lilypad. A snake lives on one end of the river (say the snake lives at 0) and will eat the frog if it lands on this side of the river. The frog can escape by landing the other side of the river (i.e. position $n$). What should the frog's strategy be when on each of the lilypads $1, 2, \\ldots, n-1$, in order to maximize the probability of escaping the pond (reaching $n$ before reaching $0$)? Although there are more than one ways of solving this problem, we would like to solve it by modeling it as an MDP and identifying the Optimal Policy.\n",
        "\n",
        "Note: Sorry for all the frog jumping questions. These games are an easy way to understand Markov Processes, without having to build out too much detail of a financial simulation. Questions will be more related to finance over time."
      ]
    },
    {
      "cell_type": "markdown",
      "metadata": {
        "id": "RaWajJBMGtRI"
      },
      "source": [
        "### Part a\n",
        "Express with clear mathematical notation the state space, the action space, transition function, and rewards function of an MDP so that the frog-escape problem would be solved by arriving at the Optimal Value Function (and hence, the Optimal Policy) of the MDP."
      ]
    },
    {
      "cell_type": "code",
      "execution_count": null,
      "metadata": {
        "id": "mYOTB9O1GtRI"
      },
      "outputs": [],
      "source": []
    },
    {
      "cell_type": "markdown",
      "metadata": {
        "id": "Rl1LdRg8GtRI"
      },
      "source": [
        "### Part b\n",
        "Write code to model this MDP as an instance of the `FiniteMarkovDecisionProcess` class. We have learnt that there exists an optimal deterministic policy, and there are $2^{n-1}$ possible deterministic policies for this problem. Write code to create each of these $2^{n-1}$ deterministic policies (as instances of `FinitePolicy` class), create a policy-implied Finite MRP for each of these deterministic policies (using the `apply_finite_policy` method of `FiniteMarkovDecisionProcess` class), and evaluate the Value Function for each of those implied Finite MRPs (using the `get_value_function_vec` method of `FiniteMarkovRewardProcess` class). This should gives you the Optimal Value Function and the Optimal Deterministic Policy."
      ]
    },
    {
      "cell_type": "code",
      "execution_count": null,
      "metadata": {
        "id": "rWaIfcYWGtRI"
      },
      "outputs": [],
      "source": []
    },
    {
      "cell_type": "markdown",
      "metadata": {
        "id": "d9YMgTxZGtRJ"
      },
      "source": [
        "### Part c\n",
        "Plot a graph of the Optimal Escape-Probability and of the associated strategies, as a function of the states of this MDP, for $n=3, n=6$ and $n=9$. By looking at the results on this graph, what pattern do you observe for the optimal policy as you vary $n$ from 3 to 9?"
      ]
    },
    {
      "cell_type": "code",
      "execution_count": null,
      "metadata": {
        "id": "GNz6TpAlGtRJ"
      },
      "outputs": [],
      "source": []
    },
    {
      "cell_type": "markdown",
      "metadata": {
        "id": "8xnwaUm_GtRJ"
      },
      "source": [
        "![2_frog.png](attachment:2_frog.png)"
      ]
    }
  ],
  "metadata": {
    "kernelspec": {
      "display_name": "Python 3",
      "language": "python",
      "name": "python3"
    },
    "language_info": {
      "codemirror_mode": {
        "name": "ipython",
        "version": 3
      },
      "file_extension": ".py",
      "mimetype": "text/x-python",
      "name": "python",
      "nbconvert_exporter": "python",
      "pygments_lexer": "ipython3",
      "version": "3.9.6"
    },
    "colab": {
      "provenance": [],
      "include_colab_link": true
    }
  },
  "nbformat": 4,
  "nbformat_minor": 0
}