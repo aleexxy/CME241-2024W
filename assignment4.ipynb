{
 "cells": [
  {
   "cell_type": "markdown",
   "metadata": {},
   "source": [
    "# Stanford CME 241 (Winter 2024) - Assignment 4\n",
    "\n",
    "**Due: Feb 5 @ 11:59pm Pacific Time on Gradescope.**\n",
    "\n",
    "Assignment instructions:\n",
    "- **Please solve questions 1 and 2, and choose one of questions 3 or 4.**\n",
    "- Empty code blocks are for your use. Feel free to create more under each section as needed.\n",
    "\n",
    "Submission instructions:\n",
    "- When complete, fill out your publicly available GitHub repo file URL and group members below, then export or print this .ipynb file to PDF and upload the PDF to Gradescope.\n",
    "\n",
    "*Link to this ipynb file in your public GitHub repo (replace below URL with yours):* \n",
    "\n",
    "https://github.com/my-username/my-repo/assignment-file-name.ipynb\n",
    "\n",
    "*Group members (replace below names with people in your group):* \n",
    "\n",
    "-Handi Zhao(hdzhao@stanford.edu);\n",
    "\n",
    "-Sylvia Sun(ys3835@stanford.edu);\n",
    "\n",
    "-Zhengji Yang(yangzj@stanford.edu)"
   ]
  },
  {
   "cell_type": "markdown",
   "metadata": {},
   "source": [
    "## Imports"
   ]
  },
  {
   "cell_type": "code",
   "execution_count": 3,
   "metadata": {},
   "outputs": [],
   "source": [
    "from matplotlib import pyplot as plt\n",
    "from rl.approximate_dynamic_programming import (\n",
    "    value_iteration,\n",
    "    approximate_policy_iteration\n",
    ")\n",
    "\n",
    "from rl.function_approx import Tabular\n",
    "from rl.markov_decision_process import FiniteMarkovDecisionProcess, StateActionMapping\n",
    "from numpy import allclose\n",
    "from rl.distribution import Choose\n",
    "import numpy as np\n",
    "from typing import Mapping, Iterable, Tuple, Dict\n",
    "from rl.distribution import Categorical, Choose\n",
    "from rl.markov_decision_process import FiniteMarkovDecisionProcess, StateActionMapping\n",
    "\n",
    "from dataclasses import dataclass, field, replace\n",
    "from rl.dynamic_programming import policy_iteration, value_iteration_result\n",
    "from rl.function_approx import FunctionApprox, Tabular\n",
    "from dataclasses import dataclass\n",
    "from itertools import islice"
   ]
  },
  {
   "cell_type": "markdown",
   "metadata": {},
   "source": [
    "## Question 1\n",
    "Implement *Approximate Policy Iteration*, generalization of the tabular\n",
    "Policy Iteration we covered in the previous class. In order to implement\n",
    "Approximate Policy Iteration, first review the interface and\n",
    "implementation of *Approximate Policy Evaluation* and *Approximate Value\n",
    "Iteration* (in file\n",
    "[rl/approximate_dynamic_programming.py](https://github.com/TikhonJelvis/RL-book/blob/master/rl/approximate_dynamic_programming.py)),\n",
    "then design the interface of *Approximate Policy Iteration* to be the\n",
    "same as that of *Approximate Value Iteration*. Note that your\n",
    "implementation of *Approximate Policy Iteration* would need to invoke\n",
    "*Approximate Policy Evaluation* since Policy Evaluation is a component\n",
    "of Policy Iteration. Test that your implementation is correct in two\n",
    "ways:\n",
    "\n",
    "-   Ensure that *Approximate Policy Iteration* gives the same Optimal\n",
    "    Value Function/Optimal Policy as that obtained by *Approximate Value\n",
    "    Iteration*.\n",
    "\n",
    "-   Ensure that *Approximate Policy Iteration* produces the same result\n",
    "    as our prior implementation of Policy Iteration (in file\n",
    "    [rl/dynamic_programming.py](https://github.com/TikhonJelvis/RL-book/blob/master/rl/dynamic_programming.py)).\n",
    "    For this you need to pass to your implementation of *Approximate\n",
    "    Policy Iteration* a `FiniteMarkovDecisionProcess` input and a\n",
    "    `Tabular` instance for the `FunctionApprox` input."
   ]
  },
  {
   "cell_type": "code",
   "execution_count": null,
   "metadata": {},
   "outputs": [],
   "source": [
    "def approximate_policy_iteration(\n",
    "    mdp: MarkovDecisionProcess[S, A],\n",
    "    gamma: float,\n",
    "    approx_0: ValueFunctionApprox[S],\n",
    "    non_terminal_states_distribution: NTStateDistribution[S],\n",
    "    num_state_samples: int,\n",
    "    num_iterations: int\n",
    ") -> Iterator[Tuple[ValueFunctionApprox[S], DeterministicPolicy[S, A]]]:\n",
    "    \"\"\"\n",
    "    Approximate Policy Iteration function.\n",
    "\n",
    "    Parameters:\n",
    "    mdp: MarkovDecisionProcess[S, A] - The given Markov Decision Process.\n",
    "    gamma: float - Discount factor.\n",
    "    approx_0: ValueFunctionApprox[S] - Initial value function approximation.\n",
    "    non_terminal_states_distribution: NTStateDistribution[S] - Distribution of non-terminal states.\n",
    "    num_state_samples: int - Number of state samples for approximation calculation.\n",
    "    num_iterations: int - Number of iterations.\n",
    "\n",
    "    Returns:\n",
    "    Iterator[Tuple[ValueFunctionApprox[S], DeterministicPolicy[S, A]]] - Iterator of value function approximations and policies.\n",
    "    \"\"\"\n",
    "    value_function = approx_0\n",
    "    policy = DeterministicPolicy(lambda s: np.random.choice(mdp.actions(NonTerminal(s))))\n",
    "\n",
    "    for _ in range(num_iterations):\n",
    "        # Approximate Policy Evaluation\n",
    "        value_function = evaluate_mrp(\n",
    "            mdp.apply_policy(policy),\n",
    "            gamma,\n",
    "            value_function,\n",
    "            non_terminal_states_distribution,\n",
    "            num_state_samples\n",
    "        ).__next__()\n",
    "\n",
    "        # Policy Improvement\n",
    "        def action_for_state(s: NonTerminal[S]) -> A:\n",
    "            return max(\n",
    "                ((mdp.step(s, a).expectation(lambda s_r: s_r[1] + gamma * extended_vf(value_function, s_r[0])), a)\n",
    "                 for a in mdp.actions(s)),\n",
    "                key=itemgetter(0)\n",
    "            )[1]\n",
    "\n",
    "        policy = DeterministicPolicy(action_for_state)\n",
    "\n",
    "        yield (value_function, policy)\n"
   ]
  },
  {
   "cell_type": "markdown",
   "metadata": {},
   "source": [
    "### Test1: Verify that Approximate Policy Iteration gives results as that obtained by Approximate Value Iteration."
   ]
  },
  {
   "cell_type": "code",
   "execution_count": null,
   "metadata": {},
   "outputs": [
    {
     "name": "stdout",
     "output_type": "stream",
     "text": [
      "Similar Value Functions: True\n"
     ]
    }
   ],
   "source": [
    "# design a simple mdp for testing\n",
    "class SimpleGamblingMDP(FiniteMarkovDecisionProcess[int, int]):\n",
    "    def __init__(self, max_capital: int, win_prob: float):\n",
    "        \"\"\"\n",
    "        Initialize the Simple Gambling MDP.\n",
    "\n",
    "        Parameters:\n",
    "        max_capital (int): The maximum capital.\n",
    "        win_prob (float): Probability of winning a bet.\n",
    "        \"\"\"\n",
    "        self.max_capital = max_capital\n",
    "        self.win_prob = win_prob\n",
    "        super().__init__(self.get_action_transition_reward_map())\n",
    "\n",
    "    def get_action_transition_reward_map(self) -> StateActionMapping[int, int]:\n",
    "        \"\"\"\n",
    "        Get the action transition reward map for the MDP.\n",
    "\n",
    "        Returns:\n",
    "        StateActionMapping[int, int]: The action transition reward mapping.\n",
    "        \"\"\"\n",
    "        d: Dict[int, Dict[int, Categorical[Tuple[int, float]]]] = {}\n",
    "        for capital in range(1, self.max_capital):\n",
    "            action_dict: Dict[int, Categorical[Tuple[int, float]]] = {}\n",
    "            for bet in range(1, min(capital, self.max_capital - capital) + 1):\n",
    "                outcomes = {\n",
    "                    (capital + bet, bet): self.win_prob,  # Winning outcome\n",
    "                    (capital - bet, -bet): 1 - self.win_prob  # Losing outcome\n",
    "                }\n",
    "                action_dict[bet] = Categorical(outcomes)\n",
    "            d[capital] = action_dict\n",
    "        return d\n",
    "\n",
    "\n",
    "max_capital = 100\n",
    "win_prob = 0.5\n",
    "gamma = 0.9\n",
    "\n",
    "# Creating an instance of MDP\n",
    "gambling_mdp = SimpleGamblingMDP(max_capital=max_capital, win_prob=win_prob)\n",
    "\n",
    "initial_values = {s: 0.0 for s in range(1, max_capital)}\n",
    "approx_0 = Tabular(values_map=initial_values, count_to_weight_func=lambda n: 1.0 / n)\n",
    "\n",
    "# Approximate value iteration\n",
    "value_function_approx = value_iteration(\n",
    "    mdp=gambling_mdp,\n",
    "    γ=gamma,\n",
    "    approx_0=approx_0,\n",
    "    non_terminal_states_distribution=Choose(range(1, max_capital)),\n",
    "    num_state_samples=1000\n",
    ").__next__()\n",
    "\n",
    "# Approximate policy iteration\n",
    "policy_iteration_result = approximate_policy_iteration(\n",
    "    mdp=gambling_mdp,\n",
    "    gamma=gamma,\n",
    "    approx_0=approx_0,\n",
    "    non_terminal_states_distribution=Choose(range(1, max_capital)),\n",
    "    num_state_samples=1000,\n",
    "    num_iterations=100\n",
    ").__next__()\n",
    "\n",
    "# Check if value functions from both methods are close enough\n",
    "tolerance = 1e-5\n",
    "similar = all(\n",
    "    abs(value_function_approx.values_map[s] - policy_iteration_result[0].values_map.get(s, 0)) <= tolerance\n",
    "    for s in value_function_approx.values_map\n",
    ")\n",
    "print(f\"Similar Value Functions: {similar}\")\n"
   ]
  },
  {
   "cell_type": "markdown",
   "metadata": {},
   "source": [
    "### Test2: Ensure that Approximate Policy Iteration produces the same results as our prior implementation of Policy Iteration"
   ]
  },
  {
   "cell_type": "code",
   "execution_count": null,
   "metadata": {},
   "outputs": [
    {
     "name": "stdout",
     "output_type": "stream",
     "text": [
      "Are the value functions close enough (tolerance 0.001)? Yes\n"
     ]
    }
   ],
   "source": [
    "# Test code\n",
    "max_capital = 100\n",
    "win_prob = 0.5\n",
    "gamma = 1.0\n",
    "tolerance = 0.001\n",
    "\n",
    "gambling_mdp = SimpleGamblingMDP(max_capital=max_capital, win_prob=win_prob)\n",
    "\n",
    "# Use policy_iteration function\n",
    "policy_iter_result = policy_iteration(gambling_mdp, gamma)\n",
    "\n",
    "# Retrieve the final value function and policy\n",
    "optimal_value_function, optimal_policy = next(islice(policy_iter_result, 100, None))\n",
    "\n",
    "# Retrieve the final results from approximate policy iteration\n",
    "approximate_value_function = policy_iteration_result[0].values_map\n",
    "\n",
    "#function to test whether two output are close\n",
    "def within_tolerance(v1: Dict[int, float], v2: Dict[int, float], tolerance: float) -> bool:\n",
    "    return all(abs(v1[s] - v2.get(s, 0.0)) <= tolerance for s in v1)\n",
    "# Check if the optimal and approximate value functions are close enough\n",
    "are_close = within_tolerance(optimal_value_function, approximate_value_function, tolerance)\n",
    "print(f\"Are the value functions close enough (tolerance {tolerance})? {'Yes' if are_close else 'No'}\")\n"
   ]
  },
  {
   "cell_type": "markdown",
   "metadata": {},
   "source": [
    "## Question 2\n",
    "Assume the Utility function is $U(x) = x - \\frac {\\alpha x^2} 2$.\n",
    "Assuming $x \\sim \\mathcal{N}(\\mu, \\sigma^2)$, calculate:\n",
    "\n",
    "-   Expected Utility $\\mathbb{E}[U(x)]$\n",
    "\n",
    "-   Certainty-Equivalent Value $x_{CE}$\n",
    "\n",
    "-   Absolute Risk-Premium $\\pi_A$\n",
    "\n",
    "\n",
    "Assume you have a million dollars to invest for a year and you are\n",
    "allowed to invest $z$ dollars in a risky asset whose annual return on\n",
    "investment is $\\mathcal{N}(\\mu, \\sigma^2)$ and the remaining (a million\n",
    "minus $z$ dollars) would need to be invested in a riskless asset with\n",
    "fixed annual return on investment of $r$. You are not allowed to adjust\n",
    "the quantities invested in the risky and riskless assets after your\n",
    "initial investment decision at time $t=0$ (static asset allocation\n",
    "problem). If your risk-aversion is based on this Utility function, how\n",
    "much would you invest in the risky asset? In other words, what is the\n",
    "optimal value for $z$, given your level of risk-aversion (determined by\n",
    "a fixed value of $\\alpha$)?\n",
    "\n",
    "Plot how the optimal value of $z$ varies with $\\alpha$."
   ]
  },
  {
   "cell_type": "markdown",
   "metadata": {},
   "source": [
    " 1). Expected Utility: \n",
    " \n",
    " \\begin{align}\n",
    " \\mathbb{E}[U(x)] & = \\mathbb{E}[x] - \\dfrac{\\alpha}{2} \\mathbb{E}[x^2] \\\\\n",
    "                  & = \\mathbb{E}[x] - \\dfrac{\\alpha}{2} (\\text{Var}[x] + \\mathbb{E}[x]^2)\\\\\n",
    "                  & = \\mu - \\dfrac{\\alpha}{2}(\\sigma^2 + \\mu^2) \n",
    " \\end{align}\n",
    "\n",
    " 2). Certainty-Equivalent Value:\n",
    "\n",
    " \\begin{align}\n",
    " x_{CE} &= U^{-1}(\\mathbb{E}[U(x)]) \\\\\n",
    "        &= \\dfrac{1 \\pm \\sqrt{1 - 2\\alpha\\mathbb{E}[U(x)]}}{\\alpha} \\\\\n",
    "        &= \\dfrac{1 \\pm \\sqrt{\\alpha^2\\sigma^2 + (\\alpha\\mu - 1)^2}}{\\alpha}\n",
    " \\end{align}\n",
    "\n",
    " 3). Absolute Risk-Premium:\n",
    "\n",
    " \\begin{align}\n",
    "\\pi_A &= \\mathbb{E}[x] - x_{CE}\\\\\n",
    "      &= \\mu - \\dfrac{1 \\pm \\sqrt{\\alpha^2\\sigma^2 + (\\alpha\\mu - 1)^2}}{\\alpha}\\\\\n",
    "      &= \\dfrac{\\alpha\\mu - 1 \\pm \\sqrt{\\alpha^2\\sigma^2 + (\\alpha\\mu - 1)^2}}{\\alpha}\n",
    " \\end{align}"
   ]
  },
  {
   "cell_type": "markdown",
   "metadata": {},
   "source": [
    "For the situation of investing $z$ dollars in risky asset, $1M - z$ dollars in rates, the synthetic portfolio has a return of $$X_z \\sim \\mathcal{N}(z\\mu + (1M - z)r, z^2\\sigma^2).$$\n",
    "\n",
    "From the expression of expected utility of a Gaussian R.V., we get\n",
    "\\begin{align}\n",
    "\\mathbb{E}[U(X_z)] &= z\\mu + (1M - z)r - \\dfrac{\\alpha}{2}(z^2\\sigma^2 + (z\\mu + (1M - z)r)^2)\\\\\n",
    "                 &= (\\mu - r)z + 1M \\cdot r - \\dfrac{\\alpha}{2}[\\sigma^2 + (\\mu-r)^2]z^2 - \\dfrac{\\alpha}{2}2(1M\\cdot r) \\cdot (\\mu - r)z + \\dfrac{\\alpha}{2}(1M\\cdot r)^2\\\\\n",
    "                 &= -\\dfrac{\\alpha[\\sigma^2 + (\\mu-r)^2]}{2}z^2 + [1 - \\alpha(1M\\cdot r)](\\mu - r)z + 1M \\cdot r \n",
    "                 + \\dfrac{\\alpha}{2}(1M\\cdot r)^2\\\\\n",
    "\\end{align}\n",
    "\n",
    "Thus, if the risk-aversion is perfectly measured by certainty equivalent value $x_{CE}$ with parameter $\\alpha$, the optimal value is given by\n",
    "\\begin{align}\n",
    "z^* &= \\text{argmax}_z\\,\\, U^{-1}(\\mathbb{E}[U(X_z)])\\\\\n",
    "    &= \\text{argmax}_z\\,\\, \\dfrac{1 \\pm \\sqrt{\\alpha^2\\sigma^2 z^2 + (\\alpha\\cdot 1M\\cdot r + \\alpha (\\mu - r) z - 1)^2}}{\\alpha}\\\\\n",
    "    &= \\text{argmax}_{z}\\,\\, \\alpha^2[\\sigma^2 + (\\mu-r)^2] z^2 - 2\\alpha[1 - \\alpha(1M\\cdot r)](\\mu - r)z + [1 - \\alpha(1M\\cdot r)]^2\\\\\n",
    "    &= \\left\\{\n",
    "        \\begin{aligned}\n",
    "        &0,\\quad  & & \\dfrac{[1 - \\alpha(1M\\cdot r)](\\mu - r)}{\\alpha[\\sigma^2 + (\\mu-r)^2]} \\geq 0.5M\\\\\n",
    "        &1M,\\quad & & o.w.\n",
    "        \\end{aligned}\n",
    "        \\right.\\\\\n",
    "    &= \\left\\{\n",
    "        \\begin{aligned}\n",
    "        &0,\\quad  & & \\alpha \\geq \\dfrac{2(\\mu - r)*10^{-6}}{\\sigma^2 + \\mu^2 - r^2}\\\\\n",
    "        &1M,\\quad & & o.w.\n",
    "        \\end{aligned}\n",
    "        \\right.\\\\\n",
    "\\end{align}"
   ]
  },
  {
   "cell_type": "code",
   "execution_count": 4,
   "metadata": {},
   "outputs": [],
   "source": [
    "import numpy as np\n",
    "from matplotlib import pyplot as plt"
   ]
  },
  {
   "cell_type": "code",
   "execution_count": 18,
   "metadata": {},
   "outputs": [
    {
     "data": {
      "text/plain": [
       "Text(0, 0.5, 'optimal value for z')"
      ]
     },
     "execution_count": 18,
     "metadata": {},
     "output_type": "execute_result"
    },
    {
     "data": {
      "image/png": "[encoded data removed]",
      "text/plain": [
       "<Figure size 640x480 with 1 Axes>"
      ]
     },
     "metadata": {},
     "output_type": "display_data"
    }
   ],
   "source": [
    "mu = 0.1\n",
    "r = 0.05\n",
    "sigma = 0.15\n",
    "alpha0 = 0.4/(1e6*r)\n",
    "alpha = np.linspace(alpha0/100, alpha0, 10000)\n",
    "z = ((1 - alpha*1e6*r)*(mu - r)/(alpha * (sigma**2 + (mu-r)**2)) < 5e5)\n",
    "plt.plot(alpha,z)\n",
    "plt.xlabel('risk aversion parameter alpha')\n",
    "plt.ylabel('optimal value for z')"
   ]
  },
  {
   "cell_type": "markdown",
   "metadata": {},
   "source": [
    "## Question 3\n",
    "\n",
    "Assume you are playing a casino game where at every turn, if you bet a\n",
    "quantity $x$, you will be returned $x \\cdot (1 + \\alpha)$ with\n",
    "probability $p$ and returned $x \\cdot (1 - \\beta)$ with probability\n",
    "$q = 1 - p$ for $\\alpha, \\beta \\in \\mathbb{R}^+$ (i.e., the return on\n",
    "bet is $\\alpha$ with probability $p$ and $-\\beta$ with probability\n",
    "$q = 1-p$) . The problem is to identify a betting strategy that will\n",
    "maximize one's expected wealth over the long run. The optimal solution\n",
    "to this problem is known as the Kelly criterion, which involves betting\n",
    "a constant fraction of one's wealth at each turn (let us denote this\n",
    "optimal fraction as $f^*$).\n",
    "\n",
    "It is known that the Kelly criterion (formula for $f^*$) is equivalent\n",
    "to maximizing the Expected Utility of Wealth after a single bet, with\n",
    "the Utility function defined as: $U(W) = \\log(W)$. Denote your wealth\n",
    "before placing the single bet as $W_0$. Let $f$ be the fraction (to be\n",
    "solved for) of $W_0$ that you will bet. Therefore, your bet is\n",
    "$f \\cdot W_0$.\n",
    "\n",
    "-   Write down the two outcomes for wealth $W$ at the end of your single\n",
    "    bet of $f \\cdot W_0$.\n",
    "\n",
    "-   Write down the two outcomes for $\\log$ (Utility) of $W$.\n",
    "\n",
    "-   Write down $\\mathbb{E}[\\log(W)]$.\n",
    "\n",
    "-   Take the derivative of $\\mathbb{E}[\\log(W)]$ with respect to $f$.\n",
    "\n",
    "-   Set this derivative to 0 to solve for $f^*$. Verify that this is\n",
    "    indeed a maxima by evaluating the second derivative at $f^*$. This\n",
    "    formula for $f^*$ is known as the Kelly Criterion.\n",
    "\n",
    "-   Convince yourself that this formula for $f^*$ makes intuitive sense\n",
    "    (in terms of it's dependency on $\\alpha$, $\\beta$ and $p$).\n"
   ]
  },
  {
   "cell_type": "code",
   "execution_count": null,
   "metadata": {},
   "outputs": [],
   "source": []
  },
  {
   "cell_type": "markdown",
   "metadata": {},
   "source": [
    "## Question 4\n",
    "\n",
    "Derive the solution to Merton's Portfolio problem for the case of the\n",
    "$\\log(\\cdot)$ Utility function. Note that the derivation in the textbook\n",
    "is for CRRA Utility function with $\\gamma \\neq 1$ and the case of the\n",
    "$\\log(\\cdot)$ Utility function was left as an exercise to the reader."
   ]
  },
  {
   "cell_type": "markdown",
   "metadata": {},
   "source": [
    "We denote the fraction of wealth allocated to the risky asset at time $t$ as $ \\pi (t, W_t)$ and the fraction of wealth allocated to the riskless asset at time $t$ is $1 - \\pi (t, W_t)$. The infinitesimal change in wealth $dW_t$ from time $t$ to time $t + dt$ is given by: $$dW_t = ((r+\\pi_t \\cdot (\\mu - r))·W_t - c_t) \\cdot dt+\\pi_t \\cdot \\sigma \\cdot W_t \\cdot dz_t$$\n",
    "    The goal is to determine optimal $\\pi(t, W_t), c(t, W_t)$ at any time $t$ to maximize: $$\\mathbb{E}[\\int_t^T e^{- \\rho(s-t)} \\cdot \\log(c_s) \\cdot ds + e^{- \\rho(T-t)} \\cdot B(T) \\cdot \\log(W_T) | W_t]$$ where $B(T)$ is the bequest and take $B(T) = 1/\\rho$ for simplicity.\n",
    "    The Hamilton-Jacobi-Bellman equation is then $$\\max_{\\pi_t,c_t} \\{ \\mathbb{E}_t [dV^*(t, W_t)] + \\log(c_t) \\cdot dt\\} = \\rho \\cdot V^*(t, W_t) \\cdot dt$$ \n",
    "    Then, use Ito’s Lemma on $dV^*$, remove the $dz_t$ term, and divide throughout by $dt$ to get $$\\max_{\\pi_t,c_t} \\{ \\frac{\\partial V^*}{\\partial t}+\\frac{\\partial V^*}{\\partial W_t} \\cdot ((r+\\pi_t \\cdot (\\mu - r))·W_t - c_t) + \\frac{\\partial^2 V^*}{\\partial W_t^2} \\cdot \\frac{\\pi_t^2 \\cdot \\sigma^2 \\cdot W_t^2}{2} + \\log(c_t)\\} = \\rho \\cdot V^*(t, W_t)$$ with the terminal condition $$V^*(T, W_T) = \\frac{1}{\\rho}\\log(W_T)$$\n",
    "    Take partial derivative with respect to $\\pi_t^*$, $c_t^*$ and equate to 0 to get $$(\\mu-r) \\cdot \\frac{\\partial V^*}{\\partial W_t} + \\frac{\\partial^2 V^*}{\\partial W_t^2} \\cdot \\pi_t \\cdot \\sigma^2 \\cdot W_t = 0 \\implies \\pi_t^*=\\frac{-\\frac{\\partial V^*}{\\partial W_t} \\cdot (\\mu-r)}{\\frac{\\partial^2 V^*}{\\partial W_t^2} \\cdot \\sigma^2 \\cdot W_t}$$ \n",
    "    $$-\\frac{\\partial V^*}{\\partial W_t} + \\frac{1}{c_t^*} = 0 \\implies c_t^* = \\frac{\\partial W_t}{\\partial V^*}$$\n",
    "    Substitute $\\pi_t^*$ and $c_t^*$ back to get the Optimal Value Function Partial Differential Equation: $$\\frac{\\partial V^*}{\\partial t}-\\frac{(\\mu-r)^2}{2\\sigma^2} \\cdot \\frac{(\\frac{\\partial V^*}{\\partial W_t})^2}{\\frac{\\partial^2 V^*}{\\partial W_t^2}} + \\frac{\\partial V^*}{\\partial W_t} \\cdot r \\cdot W_t + \\log(\\frac{\\partial W_t}{\\partial V^*}) - 1 = \\rho \\cdot V^*(t, W_t)$$\n",
    "    We surmise with a guess solution in terms of a deterministic function (f) of time: $$V^*(t, W_t) = f(t) + \\frac{1}{\\rho}log(W_t)$$ then $$\\frac{\\partial V^*}{\\partial t} = f'(t)$$ $$\\frac{\\partial V^*}{\\partial W_t} = \\frac{1}{\\rho W_t}$$ $$\\frac{\\partial^2 V^*}{\\partial W_t^2} = -\\frac{1}{\\rho W_t^2}$$\n",
    "    In this case, $\\displaystyle \\pi_t^* (t, W_t)=\\frac{\\mu-r}{\\sigma^2}$ and $c_t^* (t, W_t) = \\rho W_t$ .\n",
    "    Substituting the guess solution in the PDE, we get the simple ODE: $f'(t) - \\rho f(t) + \\nu = 0$ where $\\displaystyle \\nu=\\frac{(\\mu-r)^2}{2\\rho \\sigma^2}+\\frac{r-\\rho}{\\rho} + log(\\rho)$ with boundary condition $f(T)=0$. The solution of the ODE is then $$f(t)=\\frac{\\nu}{\\rho} (1-e^{-\\rho(T-t)})$$\n",
    "    Substituting $f(t)$ into $V^*(t, W_t)$ to get $$V^*(t, W_t)=\\frac{\\nu}{\\rho} (1-e^{-\\rho(T-t)})+\\frac{1}{\\rho}log(W_t)$$"
   ]
  }
 ],
 "metadata": {
  "kernelspec": {
   "display_name": "Python 3",
   "language": "python",
   "name": "python3"
  },
  "language_info": {
   "codemirror_mode": {
    "name": "ipython",
    "version": 3
   },
   "file_extension": ".py",
   "mimetype": "text/x-python",
   "name": "python",
   "nbconvert_exporter": "python",
   "pygments_lexer": "ipython3",
   "version": "3.9.6"
  }
 },
 "nbformat": 4,
 "nbformat_minor": 2
}
